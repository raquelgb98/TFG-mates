{
 "cells": [
  {
   "cell_type": "markdown",
   "metadata": {},
   "source": [
    "# Recovery of the coefficients of a polynomial\n",
    "\n",
    "We aim to recover the polynomial $p(x)=7x^{10}+4x^{33}+2x^{60}+8x^{99}$ by evaluating it in less than $99$ points using compressed sensing techniques. In particular we will use $\\ell_1$ minimization and the CoSaMP algorithm https://arxiv.org/pdf/0803.2392.pdf ."
   ]
  },
  {
   "cell_type": "code",
   "execution_count": 41,
   "metadata": {},
   "outputs": [],
   "source": [
    "\"\"\"Raquel García Bellés\n",
    "Bachelor's degree in Mathematics\n",
    "Universitat Autònoma de Barcelona\n",
    "Final project - Beating the Nyquist-Shannon theorem with randomness: the magic of compressed sensing.\n",
    "Last update: 24/05/2021\"\"\"\n",
    "\n",
    "from numpy import random\n",
    "import scipy as sc\n",
    "from numpy.linalg import pinv\n",
    "import numpy as np\n",
    "import matplotlib.pyplot as plt\n",
    "from random import sample\n",
    "import cmath\n",
    "from random import uniform\n",
    "\n",
    "def cosamp(phi, u, s, epsilon=1e-10, max_iter=1000):\n",
    "    \"\"\"\n",
    "    Return an `s`-sparse approximation of the target signal\n",
    "    Input:\n",
    "        - phi, sampling matrix\n",
    "        - u, noisy sample vector\n",
    "        - s, sparsity\n",
    "    \"\"\"\n",
    "    a = np.zeros(phi.shape[1])\n",
    "    v = u\n",
    "    it = 0 # count\n",
    "    halt = False\n",
    "    while not halt:\n",
    "        it += 1\n",
    "        print(\"Iteration {}\\r\".format(it), end=\"\")\n",
    "        \n",
    "        y = np.dot(np.transpose(phi), v)\n",
    "        omega = np.argsort(y)[-(2*s):] # large components\n",
    "        omega = np.union1d(omega, a.nonzero()[0]) # use set instead?\n",
    "        phiT = phi[:, omega]\n",
    "        b = np.zeros(phi.shape[1])\n",
    "        # Solve Least Square\n",
    "        b[omega], _, _, _ = np.linalg.lstsq(phiT, u)\n",
    "        \n",
    "        # Get new estimate\n",
    "        b[np.argsort(b)[:-s]] = 0\n",
    "        a = b\n",
    "        \n",
    "        # Halt criterion\n",
    "        v_old = v\n",
    "        v = u - np.dot(phi, a)\n",
    "\n",
    "        halt = (np.linalg.norm(v - v_old) < epsilon) or \\\n",
    "            np.linalg.norm(v) < epsilon or \\\n",
    "            it > max_iter\n",
    "        \n",
    "    return a\n",
    "\n",
    "\n",
    "\n",
    "get_delta_1 = lambda A: 1-np.linalg.eigvalsh(np.conjugate(A.transpose())@A)[0]\n",
    "get_delta_2 = lambda A: np.linalg.eigvalsh(np.conjugate(A.transpose())@A)[-1]-1\n",
    "def estimate_RIP(A, klist, trials):\n",
    "    delta_1 = []\n",
    "    delta_2 = [] \n",
    "    for k in klist:\n",
    "        delta_1_trial = []\n",
    "        delta_2_trial = []\n",
    "        for i in range(0,trials):\n",
    "            # we sample k columns of the A matrix\n",
    "            q = random.permutation(n)\n",
    "            sample = q[:k]\n",
    "            A_sampled = A[:,sample]\n",
    "            delta_1_trial.append(get_delta_1(A_sampled))\n",
    "            delta_2_trial.append(get_delta_2(A_sampled))\n",
    "        delta_1.append(np.max(delta_1_trial))\n",
    "        delta_2.append(np.max(delta_2_trial))\n",
    "    \n",
    "    #delta = np.maximum(delta_1,delta_2)\n",
    "    return delta_1, delta_2"
   ]
  },
  {
   "cell_type": "code",
   "execution_count": 48,
   "metadata": {},
   "outputs": [
    {
     "data": {
      "text/plain": [
       "Text(0, 0.5, 'p(x)')"
      ]
     },
     "execution_count": 48,
     "metadata": {},
     "output_type": "execute_result"
    },
    {
     "data": {
      "image/png": "[encoded data removed]",
      "text/plain": [
       "<Figure size 432x288 with 1 Axes>"
      ]
     },
     "metadata": {
      "needs_background": "light"
     },
     "output_type": "display_data"
    }
   ],
   "source": [
    "# We store the coefficients of the polynomial in an array\n",
    "# The dimension of the full signal is the total degree of the polynomial +1\n",
    "n = 100\n",
    "a = np.zeros(n);\n",
    "a[10] = 7;\n",
    "a[33] = 4;\n",
    "a[60] = 2;\n",
    "a[99] = 8;\n",
    "low = 0\n",
    "high = 20\n",
    "a = a.transpose()\n",
    "x = np.linspace(low,high,300);\n",
    "p = a[10]*x**10 + a[33]*x**33 + a[60]*x**60 + a[99]*x**99;\n",
    "\n",
    "plt.plot(x,p)\n",
    "plt.xlabel('x')\n",
    "plt.ylabel('p(x)')"
   ]
  },
  {
   "cell_type": "code",
   "execution_count": 49,
   "metadata": {},
   "outputs": [
    {
     "data": {
      "text/plain": [
       "[<matplotlib.lines.Line2D at 0x1d6486994a8>]"
      ]
     },
     "execution_count": 49,
     "metadata": {},
     "output_type": "execute_result"
    },
    {
     "data": {
      "image/png": "[encoded data removed]",
      "text/plain": [
       "<Figure size 432x288 with 1 Axes>"
      ]
     },
     "metadata": {
      "needs_background": "light"
     },
     "output_type": "display_data"
    }
   ],
   "source": [
    "plt.plot(a) # array of coefficients, it is a sparse signal"
   ]
  },
  {
   "cell_type": "markdown",
   "metadata": {},
   "source": [
    "First we construct the sensing matrix so that taking the samples is equivalent to evaluating the polynomial in $m$ roots of unity chosen uniformly at random."
   ]
  },
  {
   "cell_type": "code",
   "execution_count": 57,
   "metadata": {},
   "outputs": [],
   "source": [
    "m = 30\n",
    "A = np.zeros((m,n), dtype=complex)\n",
    "r = []\n",
    "u = sample(list(np.arange(n)+1),m)\n",
    "for i in range(0,m):\n",
    "    for j in range(0,n):\n",
    "        A[i,j]=cmath.exp(1J*2*np.pi*u[i]*j/n)/np.sqrt(n)"
   ]
  },
  {
   "cell_type": "markdown",
   "metadata": {},
   "source": [
    "Just for reference we estimate the RIP constant of this sensing matrix."
   ]
  },
  {
   "cell_type": "code",
   "execution_count": 58,
   "metadata": {},
   "outputs": [],
   "source": [
    "k_max = 21\n",
    "klist = np.arange(1,k_max)\n",
    "\n",
    "trials = 2000\n",
    "delta_1, delta_2 = estimate_RIP(A, klist, trials)"
   ]
  },
  {
   "cell_type": "code",
   "execution_count": 59,
   "metadata": {},
   "outputs": [
    {
     "data": {
      "text/plain": [
       "<matplotlib.legend.Legend at 0x1d649d1d898>"
      ]
     },
     "execution_count": 59,
     "metadata": {},
     "output_type": "execute_result"
    },
    {
     "data": {
      "image/png": "[encoded data removed]",
      "text/plain": [
       "<Figure size 576x360 with 1 Axes>"
      ]
     },
     "metadata": {
      "needs_background": "light"
     },
     "output_type": "display_data"
    }
   ],
   "source": [
    "plt.figure(figsize = (8,5))\n",
    "plt.plot(klist,delta_1,label='$\\delta_k^1$' )\n",
    "plt.plot(klist,delta_2,label ='$\\delta_k^2$')\n",
    "#plt.plot(klist,delta)\n",
    "plt.plot(klist,np.zeros(len(klist))+np.sqrt(2)-1, 'r--',label = '$\\sqrt{2}-1$')\n",
    "plt.xlabel('k')\n",
    "plt.ylabel('$\\delta_k$')\n",
    "plt.title('n = %u, m =%u' %(n,m) )\n",
    "plt.legend()"
   ]
  },
  {
   "cell_type": "markdown",
   "metadata": {},
   "source": [
    "Now we take the samples:"
   ]
  },
  {
   "cell_type": "code",
   "execution_count": 60,
   "metadata": {},
   "outputs": [],
   "source": [
    "y = A@a"
   ]
  },
  {
   "cell_type": "markdown",
   "metadata": {},
   "source": [
    "The samples and the sensing matrix contain complex numbers, hence we have to separate the real and the imaginary part in order for the optimization algorithms to work well."
   ]
  },
  {
   "cell_type": "code",
   "execution_count": 61,
   "metadata": {},
   "outputs": [],
   "source": [
    "Y = np.concatenate((np.real(y),np.imag(y))) # new set of samples\n",
    "\n",
    "AA = np.concatenate((np.real(A), np.imag(A)))\n",
    "BB = np.concatenate((-np.imag(A), np.real(A)))\n",
    "AAA = np.concatenate((AA,BB), axis = 1) # new sensing matrix"
   ]
  },
  {
   "cell_type": "markdown",
   "metadata": {},
   "source": [
    "Also for reference we estimate the RIP of AAA"
   ]
  },
  {
   "cell_type": "code",
   "execution_count": 62,
   "metadata": {},
   "outputs": [],
   "source": [
    "k_max = 21\n",
    "klist = np.arange(1,k_max)\n",
    "\n",
    "trials = 2000\n",
    "delta_1, delta_2 = estimate_RIP(AAA, klist, trials)"
   ]
  },
  {
   "cell_type": "code",
   "execution_count": 63,
   "metadata": {},
   "outputs": [
    {
     "data": {
      "text/plain": [
       "<matplotlib.legend.Legend at 0x1d649d2f358>"
      ]
     },
     "execution_count": 63,
     "metadata": {},
     "output_type": "execute_result"
    },
    {
     "data": {
      "image/png": "[encoded data removed]",
      "text/plain": [
       "<Figure size 576x360 with 1 Axes>"
      ]
     },
     "metadata": {
      "needs_background": "light"
     },
     "output_type": "display_data"
    }
   ],
   "source": [
    "plt.figure(figsize = (8,5))\n",
    "plt.plot(klist,delta_1,label='$\\delta_k^1$' )\n",
    "plt.plot(klist,delta_2,label ='$\\delta_k^2$')\n",
    "#plt.plot(klist,delta)\n",
    "plt.plot(klist,np.zeros(len(klist))+np.sqrt(2)-1, 'r--',label = '$\\sqrt{2}-1$')\n",
    "plt.xlabel('k')\n",
    "plt.ylabel('$\\delta_k$')\n",
    "plt.title('n = %u, m =%u' %(n,m) )\n",
    "plt.legend()"
   ]
  },
  {
   "cell_type": "markdown",
   "metadata": {},
   "source": [
    "Now we execute the recovey via cosamp:"
   ]
  },
  {
   "cell_type": "code",
   "execution_count": 64,
   "metadata": {},
   "outputs": [
    {
     "name": "stdout",
     "output_type": "stream",
     "text": [
      "Iteration 2\r"
     ]
    },
    {
     "name": "stderr",
     "output_type": "stream",
     "text": [
      "C:\\Users\\raque\\Miniconda3\\lib\\site-packages\\ipykernel_launcher.py:38: FutureWarning: `rcond` parameter will change to the default of machine precision times ``max(M, N)`` where M and N are the input matrix dimensions.\n",
      "To use the future default and silence this warning we advise to pass `rcond=None`, to keep using the old, explicitly pass `rcond=-1`.\n"
     ]
    },
    {
     "data": {
      "text/plain": [
       "[<matplotlib.lines.Line2D at 0x1d649e099b0>]"
      ]
     },
     "execution_count": 64,
     "metadata": {},
     "output_type": "execute_result"
    },
    {
     "data": {
      "image/png": "[encoded data removed]",
      "text/plain": [
       "<Figure size 432x288 with 1 Axes>"
      ]
     },
     "metadata": {
      "needs_background": "light"
     },
     "output_type": "display_data"
    }
   ],
   "source": [
    "reco = cosamp(AAA, Y, 4, epsilon=1e-10, max_iter=1000)\n",
    "plt.plot(reco[:100])"
   ]
  },
  {
   "cell_type": "markdown",
   "metadata": {},
   "source": [
    "Now we use $\\ell_1$ minimization"
   ]
  },
  {
   "cell_type": "code",
   "execution_count": 8,
   "metadata": {},
   "outputs": [],
   "source": [
    "from scipy.optimize import minimize\n",
    "def L1_norm(x):\n",
    "    return np.linalg.norm(x,ord=1)\n",
    "\n",
    "constr = ({'type': 'eq', 'fun': lambda x:  AAA@x - Y}) # equality constraint function must be zero\n",
    "x0 = np.linalg.pinv(AAA)@Y #initial guess\n",
    "res = minimize(L1_norm, x0, method='SLSQP',constraints=constr)\n",
    "s = res.x"
   ]
  },
  {
   "cell_type": "code",
   "execution_count": 9,
   "metadata": {},
   "outputs": [
    {
     "data": {
      "text/plain": [
       "[<matplotlib.lines.Line2D at 0x1d648330358>]"
      ]
     },
     "execution_count": 9,
     "metadata": {},
     "output_type": "execute_result"
    },
    {
     "data": {
      "image/png": "[encoded data removed]",
      "text/plain": [
       "<Figure size 432x288 with 1 Axes>"
      ]
     },
     "metadata": {
      "needs_background": "light"
     },
     "output_type": "display_data"
    }
   ],
   "source": [
    "plt.plot(s[:100])"
   ]
  },
  {
   "cell_type": "markdown",
   "metadata": {},
   "source": [
    "We have seen that both $\\ell_1$ minimization and CoSaMP work well for $m=30$ samples. Now we will compare their performance for different number of samples."
   ]
  },
  {
   "cell_type": "code",
   "execution_count": 10,
   "metadata": {},
   "outputs": [
    {
     "name": "stdout",
     "output_type": "stream",
     "text": [
      "Iteration 3\r"
     ]
    },
    {
     "name": "stderr",
     "output_type": "stream",
     "text": [
      "C:\\Users\\raque\\Miniconda3\\lib\\site-packages\\ipykernel_launcher.py:35: FutureWarning: `rcond` parameter will change to the default of machine precision times ``max(M, N)`` where M and N are the input matrix dimensions.\n",
      "To use the future default and silence this warning we advise to pass `rcond=None`, to keep using the old, explicitly pass `rcond=-1`.\n"
     ]
    },
    {
     "name": "stdout",
     "output_type": "stream",
     "text": [
      "Iteration 1901\r"
     ]
    }
   ],
   "source": [
    "error_l1 = []\n",
    "error_cosamp = []\n",
    "a_exact = np.concatenate((np.real(a),np.imag(a)))\n",
    "for m in range(1,n):\n",
    "    A = np.zeros((m,n), dtype = complex)\n",
    "    r = []\n",
    "    u = sample(list(np.arange(n)+1),m)\n",
    "    for i in range(0,m):\n",
    "        for j in range(0,n):\n",
    "            A[i,j]=cmath.exp(1J*2*np.pi*u[i]*j/n)\n",
    "    y = A@a\n",
    "    \n",
    "    Y = np.concatenate((np.real(y),np.imag(y))) # new set of samples\n",
    "\n",
    "    AA = np.concatenate((np.real(A), np.imag(A)))\n",
    "    BB = np.concatenate((-np.imag(A), np.real(A)))\n",
    "    AAA = np.concatenate((AA,BB), axis = 1) # new sensing matrix\n",
    "    \n",
    "    # Cosamp\n",
    "    reco = cosamp(AAA, Y, 4, epsilon=1e-10, max_iter=1000)\n",
    "    error_cosamp.append(np.sum(np.abs(np.subtract(a_exact,reco)))) #absolut error\n",
    "    \n",
    "    # l1\n",
    "    constr = ({'type': 'eq', 'fun': lambda x:  AAA@x - Y}) # equality constraint function must be zero\n",
    "    x0 = np.linalg.pinv(AAA)@Y #initial guess\n",
    "    res = minimize(L1_norm, x0, method='SLSQP',constraints=constr)\n",
    "    s = res.x\n",
    "    error_l1.append(np.sum(np.abs(np.subtract(a_exact,s))))"
   ]
  },
  {
   "cell_type": "code",
   "execution_count": 12,
   "metadata": {},
   "outputs": [
    {
     "name": "stderr",
     "output_type": "stream",
     "text": [
      "The PostScript backend does not support transparency; partially transparent artists will be rendered opaque.\n",
      "The PostScript backend does not support transparency; partially transparent artists will be rendered opaque.\n",
      "The PostScript backend does not support transparency; partially transparent artists will be rendered opaque.\n",
      "The PostScript backend does not support transparency; partially transparent artists will be rendered opaque.\n"
     ]
    },
    {
     "data": {
      "image/png": "[encoded data removed]",
      "text/plain": [
       "<Figure size 576x432 with 1 Axes>"
      ]
     },
     "metadata": {
      "needs_background": "light"
     },
     "output_type": "display_data"
    }
   ],
   "source": [
    "plt.figure(figsize = (8,6))\n",
    "\n",
    "plt.plot(error_l1, label = r'$(P_1)$')\n",
    "plt.plot(error_cosamp, label = 'CoSaMP')\n",
    "plt.ylabel('Error')\n",
    "plt.xlabel('m')\n",
    "plt.rcParams.update({'font.size': 15})\n",
    "plt.ylim((0,50))\n",
    "plt.legend()\n",
    "plt.savefig('polynomial.eps',bbox_inches='tight')"
   ]
  },
  {
   "cell_type": "markdown",
   "metadata": {},
   "source": [
    "From 9 samples the error using cosamp is 0.\n",
    "\n",
    "From 17 samples the error using l1 minimization is 0."
   ]
  },
  {
   "cell_type": "markdown",
   "metadata": {},
   "source": [
    "error_l1 = [25.99966208346696,\n",
    " 29.043991266619678,\n",
    " 38.56700257101399,\n",
    " 33.40748113303019,\n",
    " 31.96994016163897,\n",
    " 36.578146685140126,\n",
    " 36.12390879211017,\n",
    " 35.04209008730279,\n",
    " 12.519651880591955,\n",
    " 25.00899021149808,\n",
    " 10.289766829991889,\n",
    " 16.02671886991609,\n",
    " 11.832504556565864,\n",
    " 12.019980303351568,\n",
    " 2.8799548631468443,\n",
    " 17.851746235326424,\n",
    " 8.29540006544445,\n",
    " 1.6432008402843101,\n",
    " 1.529587309031995,\n",
    " 1.2506314611916762,\n",
    " 1.0945164390346114,\n",
    " 1.4692259285636728,\n",
    " 1.0456181701662723,\n",
    " 1.0651319153475154,\n",
    " 0.9374046449363256,\n",
    " 1.001734961081018,\n",
    " 0.9957313486123003,\n",
    " 1.0207053378392477,\n",
    " 1.0797234234170283,\n",
    " 0.9375586181493032,\n",
    " 0.8659765835075499,\n",
    " 0.9094769424438558,\n",
    " 0.8719392552324091,\n",
    " 0.8319951723847805,\n",
    " 0.8224153279781866,\n",
    " 0.8391684384578438,\n",
    " 0.7987003177949988,\n",
    " 0.8329800571409103,\n",
    " 0.5912994540293454,\n",
    " 0.7036921458617815,\n",
    " 0.6404144374855931,\n",
    " 0.6594497298806397,\n",
    " 0.5576520758591401,\n",
    " 0.4852728440268302,\n",
    " 0.5021783583618717,\n",
    " 0.5258787935972933,\n",
    " 0.4725526409192873,\n",
    " 0.4483276506657218,\n",
    " 0.4379669403181132,\n",
    " 0.46264644538278477,\n",
    " 0.3934893579301121,\n",
    " 0.3510365615161235,\n",
    " 0.37059322529544314,\n",
    " 0.28615863535661296,\n",
    " 0.2967709173748158,\n",
    " 0.27450706237163197,\n",
    " 0.2341377315690846,\n",
    " 0.23680076827122576,\n",
    " 0.17500640664583414,\n",
    " 0.13770501487296705,\n",
    " 0.13236813041384066,\n",
    " 0.09095446305982097,\n",
    " 0.08782362560441206,\n",
    " 0.08283990719727771,\n",
    " 0.05531980321581166,\n",
    " 0.049054284960011664,\n",
    " 0.041303378858094805,\n",
    " 0.034488025094986996,\n",
    " 0.021478041210260257,\n",
    " 0.016424101457025036,\n",
    " 0.016541216163981336,\n",
    " 0.011522718910076156,\n",
    " 0.00943290331525159,\n",
    " 0.0075437762760010695,\n",
    " 0.007443237158208742,\n",
    " 0.0036122611871868683,\n",
    " 0.0033775444561827536,\n",
    " 0.004150918265305956,\n",
    " 0.0026290654980517057,\n",
    " 0.0022019503180934806,\n",
    " 0.0013815928259890047,\n",
    " 0.0011277611244335994,\n",
    " 0.0006021430770194164,\n",
    " 0.0003747215546832533,\n",
    " 0.00018052911444792533,\n",
    " 0.00010510849106354346,\n",
    " 5.1071506329247436e-05,\n",
    " 2.6871948599129223e-05,\n",
    " 1.6855788703975953e-05,\n",
    " 1.5184586837459205e-05,\n",
    " 1.3164664726523938e-05,\n",
    " 1.2186710246910216e-05,\n",
    " 1.56816163212386e-05,\n",
    " 1.3395401283890131e-05,\n",
    " 1.1587320195143362e-05,\n",
    " 8.617209703795597e-06,\n",
    " 7.894722693925782e-06,\n",
    " 1.5910003310854434e-05,\n",
    " 4.066537516951931e-06]"
   ]
  },
  {
   "cell_type": "markdown",
   "metadata": {},
   "source": [
    "error_cosamp = [24.497870284442094,\n",
    " 27.48394287040844,\n",
    " 35.64688389562883,\n",
    " 32.15816401924458,\n",
    " 2.985221938825307,\n",
    " 439.25912358205164,\n",
    " 2.3092638912203256e-14,\n",
    " 39.0359255133005,\n",
    " 8.215650382226158e-15,\n",
    " 2.220446049250313e-14,\n",
    " 1.509903313490213e-14,\n",
    " 4.8405723873656825e-14,\n",
    " 4.707345624410664e-14,\n",
    " 1.8207657603852567e-14,\n",
    " 2.0650148258027912e-14,\n",
    " 3.9968028886505635e-15,\n",
    " 1.1324274851176597e-14,\n",
    " 6.439293542825908e-15,\n",
    " 3.552713678800501e-15,\n",
    " 1.2434497875801753e-14,\n",
    " 3.552713678800501e-15,\n",
    " 2.042810365310288e-14,\n",
    " 9.325873406851315e-15,\n",
    " 1.3100631690576847e-14,\n",
    " 1.1102230246251565e-14,\n",
    " 7.771561172376096e-15,\n",
    " 1.021405182655144e-14,\n",
    " 2.8199664825478976e-14,\n",
    " 1.8207657603852567e-14,\n",
    " 1.1324274851176597e-14,\n",
    " 2.398081733190338e-14,\n",
    " 1.1546319456101628e-14,\n",
    " 3.3306690738754696e-14,\n",
    " 7.549516567451064e-15,\n",
    " 6.217248937900877e-15,\n",
    " 1.199040866595169e-14,\n",
    " 1.1102230246251565e-14,\n",
    " 1.7763568394002505e-14,\n",
    " 7.549516567451064e-15,\n",
    " 3.1530333899354446e-14,\n",
    " 1.3100631690576847e-14,\n",
    " 1.865174681370263e-14,\n",
    " 1.1546319456101628e-14,\n",
    " 1.0880185641326534e-14,\n",
    " 7.993605777301127e-15,\n",
    " 1.199040866595169e-14,\n",
    " 1.021405182655144e-14,\n",
    " 1.9317880628477724e-14,\n",
    " 7.993605777301127e-15,\n",
    " 1.4210854715202004e-14,\n",
    " 6.661338147750939e-15,\n",
    " 7.549516567451064e-15,\n",
    " 5.995204332975845e-14,\n",
    " 9.103828801926284e-15,\n",
    " 1.865174681370263e-14,\n",
    " 5.551115123125783e-15,\n",
    " 5.551115123125783e-15,\n",
    " 1.3766765505351941e-14,\n",
    " 2.7977620220553945e-14,\n",
    " 6.661338147750939e-15,\n",
    " 5.10702591327572e-15,\n",
    " 1.4210854715202004e-14,\n",
    " 1.1324274851176597e-14,\n",
    " 7.993605777301127e-15,\n",
    " 1.0436096431476471e-14,\n",
    " 1.84297022087776e-14,\n",
    " 8.881784197001252e-15,\n",
    " 1.021405182655144e-14,\n",
    " 1.7319479184152442e-14,\n",
    " 1.2656542480726785e-14,\n",
    " 1.0658141036401503e-14,\n",
    " 1.8207657603852567e-14,\n",
    " 7.105427357601002e-15,\n",
    " 2.3092638912203256e-14,\n",
    " 7.549516567451064e-15,\n",
    " 1.199040866595169e-14,\n",
    " 8.881784197001252e-15,\n",
    " 1.7319479184152442e-14,\n",
    " 1.509903313490213e-14,\n",
    " 2.886579864025407e-14,\n",
    " 1.3988810110276972e-14,\n",
    " 2.0872192862952943e-14,\n",
    " 1.2878587085651816e-14,\n",
    " 1.4876988529977098e-14,\n",
    " 1.4876988529977098e-14,\n",
    " 1.3766765505351941e-14,\n",
    " 2.220446049250313e-14,\n",
    " 2.1538326677728037e-14,\n",
    " 7.549516567451064e-15,\n",
    " 1.7319479184152442e-14,\n",
    " 7.105427357601002e-15,\n",
    " 8.215650382226158e-15,\n",
    " 8.881784197001252e-15,\n",
    " 5.329070518200751e-15,\n",
    " 1.6431300764452317e-14,\n",
    " 7.815970093361102e-14,\n",
    " 6.217248937900877e-15,\n",
    " 1.1546319456101628e-14,\n",
    " 2.4646951146678475e-14]"
   ]
  },
  {
   "cell_type": "code",
   "execution_count": null,
   "metadata": {},
   "outputs": [],
   "source": []
  }
 ],
 "metadata": {
  "kernelspec": {
   "display_name": "Python 3",
   "language": "python",
   "name": "python3"
  },
  "language_info": {
   "codemirror_mode": {
    "name": "ipython",
    "version": 3
   },
   "file_extension": ".py",
   "mimetype": "text/x-python",
   "name": "python",
   "nbconvert_exporter": "python",
   "pygments_lexer": "ipython3",
   "version": "3.7.3"
  }
 },
 "nbformat": 4,
 "nbformat_minor": 4
}
